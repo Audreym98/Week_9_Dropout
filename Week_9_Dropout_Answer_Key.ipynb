{
 "cells": [
  {
   "cell_type": "code",
   "execution_count": 55,
   "id": "6e4b0e99",
   "metadata": {
    "scrolled": true
   },
   "outputs": [],
   "source": [
    "# Load the dataset...\n",
    "import torch\n",
    "from pathlib import Path\n",
    "from torch import nn\n",
    "import sys\n",
    "import numpy as np\n",
    "from sklearn.datasets import fetch_openml\n",
    "import torch.utils.data as data_utils\n",
    "from sklearn.model_selection import train_test_split\n",
    "from torch import optim\n",
    "import matplotlib.pyplot as plt\n",
    "import torchvision\n",
    "from torchvision import transforms\n",
    "\n",
    "if(\"dataset\" not in globals()):\n",
    "    root_dir = Path().resolve()\n",
    "    dataset = torchvision.datasets.CIFAR10(root_dir, download=True, transform=transforms.ToTensor())\n",
    "    test, train = torch.utils.data.random_split(dataset, [int(len(dataset) * 0.8), int(len(dataset) * 0.2)])"
   ]
  },
  {
   "cell_type": "code",
   "execution_count": 56,
   "id": "e3f2cc7d",
   "metadata": {
    "scrolled": false
   },
   "outputs": [
    {
     "name": "stdout",
     "output_type": "stream",
     "text": [
      "Running PyTorch Using: cuda\n"
     ]
    }
   ],
   "source": [
    "is_cuda = torch.cuda.is_available()\n",
    "\n",
    "if is_cuda:\n",
    "    device = torch.device(\"cuda\") # GPU\n",
    "else:\n",
    "    device = torch.device(\"cpu\") # CPU\n",
    "    \n",
    "print(f\"Running PyTorch Using: {device}\")"
   ]
  },
  {
   "cell_type": "code",
   "execution_count": 70,
   "id": "c513f1cc",
   "metadata": {},
   "outputs": [],
   "source": [
    "batch_size = 100\n",
    "\n",
    "to_device = lambda a: a.to(device)\n",
    "\n",
    "test_loader = torch.utils.data.DataLoader(test, batch_size, shuffle=True)\n",
    "train_loader = torch.utils.data.DataLoader(train, batch_size, shuffle=True)"
   ]
  },
  {
   "cell_type": "code",
   "execution_count": 24,
   "id": "0b77cd2c",
   "metadata": {},
   "outputs": [],
   "source": [
    "class SmallCNN(nn.Module):\n",
    "    def __init__(self, input_size: tuple, cnn_layers: list, )"
   ]
  },
  {
   "cell_type": "code",
   "execution_count": null,
   "id": "23bba9cc",
   "metadata": {},
   "outputs": [],
   "source": []
  }
 ],
 "metadata": {
  "kernelspec": {
   "display_name": "Python 3 (ipykernel)",
   "language": "python",
   "name": "python3"
  },
  "language_info": {
   "codemirror_mode": {
    "name": "ipython",
    "version": 3
   },
   "file_extension": ".py",
   "mimetype": "text/x-python",
   "name": "python",
   "nbconvert_exporter": "python",
   "pygments_lexer": "ipython3",
   "version": "3.8.12"
  }
 },
 "nbformat": 4,
 "nbformat_minor": 5
}
